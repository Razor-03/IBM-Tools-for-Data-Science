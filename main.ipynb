{
 "cells": [
  {
   "cell_type": "markdown",
   "id": "f445ca61",
   "metadata": {},
   "source": [
    "# Data Science Tools"
   ]
  },
  {
   "cell_type": "markdown",
   "id": "20bda071",
   "metadata": {},
   "source": [
    "A simple list of resources about main data science tools."
   ]
  },
  {
   "cell_type": "markdown",
   "id": "f6c71d99",
   "metadata": {},
   "source": [
    "### Data Science Languages\n",
    "- Python\n",
    "- R\n",
    "- Julia\n",
    "- Scala"
   ]
  },
  {
   "cell_type": "markdown",
   "id": "0cef8733",
   "metadata": {},
   "source": [
    "### Data Science Libraries\n",
    "- NumPy\n",
    "- Pandas\n",
    "- Matplotlib\n",
    "- Seaborn\n",
    "- Scikit-Learn\n",
    "- dplyr\n",
    "- ggplot2"
   ]
  },
  {
   "cell_type": "markdown",
   "id": "a16c4771",
   "metadata": {},
   "source": [
    "### Tools \n",
    "| Data Science Tools |\n",
    "| ------------------ |\n",
    "| Jupyter Notebook   |\n",
    "| RStudio            |\n",
    "| Apache Zeppelin    |\n",
    "| Spyder             |\n",
    "| VS Code            |\n"
   ]
  },
  {
   "cell_type": "markdown",
   "id": "3ce9fd93",
   "metadata": {},
   "source": [
    "### Arithmetic Expression Examples\n",
    "Below are examples of simple arithmetic expressions using Python. These include operations like addition, subtraction, multiplication, and division."
   ]
  },
  {
   "cell_type": "code",
   "execution_count": 1,
   "id": "cc88f5a8",
   "metadata": {},
   "outputs": [
    {
     "data": {
      "text/plain": [
       "17"
      ]
     },
     "execution_count": 1,
     "metadata": {},
     "output_type": "execute_result"
    }
   ],
   "source": [
    "result = (3 * 4) + 5\n",
    "result"
   ]
  },
  {
   "cell_type": "code",
   "execution_count": 3,
   "id": "e2357f79",
   "metadata": {},
   "outputs": [
    {
     "data": {
      "text/plain": [
       "3.3333333333333335"
      ]
     },
     "execution_count": 3,
     "metadata": {},
     "output_type": "execute_result"
    }
   ],
   "source": [
    "minutes = 200\n",
    "hours = minutes / 60\n",
    "hours"
   ]
  },
  {
   "cell_type": "markdown",
   "id": "30562aba",
   "metadata": {},
   "source": [
    "### Objectives:\n",
    "- Understand the basics of Jupyter\n",
    "- Perform arithmetic operations using Python\n",
    "- Work with Jupyter Notebooks\n",
    "- Share notebooks using GitHub\n",
    "- Document work using Markdown"
   ]
  },
  {
   "cell_type": "markdown",
   "id": "969c3535",
   "metadata": {},
   "source": [
    "Author: Hassan Raza"
   ]
  },
  {
   "cell_type": "markdown",
   "id": "081d9a86",
   "metadata": {},
   "source": []
  }
 ],
 "metadata": {
  "kernelspec": {
   "display_name": "Python 3",
   "language": "python",
   "name": "python3"
  },
  "language_info": {
   "codemirror_mode": {
    "name": "ipython",
    "version": 3
   },
   "file_extension": ".py",
   "mimetype": "text/x-python",
   "name": "python",
   "nbconvert_exporter": "python",
   "pygments_lexer": "ipython3",
   "version": "3.12.1"
  }
 },
 "nbformat": 4,
 "nbformat_minor": 5
}
